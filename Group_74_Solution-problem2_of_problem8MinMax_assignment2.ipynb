{
 "cells": [
  {
   "cell_type": "markdown",
   "id": "349b329b",
   "metadata": {},
   "source": [
    "## Artificial and Computational Intelligence Assignment 2 / Problem 2"
   ]
  },
  {
   "cell_type": "markdown",
   "id": "ef73df95",
   "metadata": {},
   "source": [
    "## Logic with Min-Max Algorithm - Solution template"
   ]
  },
  {
   "cell_type": "markdown",
   "id": "135a6db2",
   "metadata": {},
   "source": [
    "### List only the BITS (Name) of active contributors in this assignment:\n",
    "1. Ravi Banerjee______________\n",
    "2. Dilip R__________________\n",
    "3. Yogesh Mittal____________________\n",
    "4. Aman Saurav___________________\n",
    "5. Pradeep Kumar___________________"
   ]
  },
  {
   "cell_type": "markdown",
   "id": "9c8fc7c1",
   "metadata": {},
   "source": [
    "### Coding begins here"
   ]
  },
  {
   "attachments": {},
   "cell_type": "markdown",
   "id": "ae16f9ad",
   "metadata": {},
   "source": [
    "### PEAS - Data structures and fringes that define the Agent environment goes here\n",
    "\n"
   ]
  },
  {
   "cell_type": "markdown",
   "id": "4e6c2143-67fe-4ad0-a5c8-57f5c9b34fd1",
   "metadata": {},
   "source": [
    "Performance Measure - Correctly predict the outcome (c0 or c1) based on the decision tree logic.    \n",
    "\t\t            - Handle user inputs efficiently.        \r\n",
    "\t\t            - Ensure user-friendly error handling.\r\n",
    "Environment - The environment is the input data from sens  s.\r\n",
    "\t        - It is discrete (binary inputs) and fully observable.\r\n",
    "Actuators - Prompt user for    uts    .\r\n",
    "\t  - Output a final decision (c0 or c1).\r\n",
    "Sensors\t- Inputs provided by the user to mimic sensor readings from attributes (a5, a8, a9, etc.)."
   ]
  },
  {
   "cell_type": "code",
   "execution_count": null,
   "id": "1e1e1546",
   "metadata": {},
   "outputs": [],
   "source": [
    "#Code block\n",
    "import gdown\n",
    "import pandas as pd\n",
    "import math\n",
    "\n",
    "# Step 1: Download and Load Dataset\n",
    "def download_dataset():\n",
    "    # Google Drive URL for the dataset\n",
    "    url = 'https://drive.google.com/uc?id=1cFnSp-VDtqON7dQZPVgTTGZEPFljk2lk'\n",
    "    output = 'moon_sensor_data.csv'\n",
    "\n",
    "    # Download the file from Google Drive\n",
    "    gdown.download(url, output, quiet=False)\n",
    "\n",
    "    # Load the dataset\n",
    "    data = pd.read_csv(output)\n",
    "    return data\n",
    "\n",
    "# Load the dataset into a DataFrame\n",
    "dataset = download_dataset()\n",
    "\n",
    "# Interactive Input Collection\n",
    "def get_user_input():\n",
    "    # Asking for inputs from the user\n",
    "    a5 = input(\"Enter value for a5 (true/false): \").lower() == 'true'\n",
    "    a8 = input(\"Enter value for a8 (true/false): \").lower() == 'true'\n",
    "    a9 = input(\"Enter value for a9 (true/false): \").lower() == 'true'\n",
    "    a2 = input(\"Enter value for a2 (true/false): \").lower() == 'true'\n",
    "    a0 = input(\"Enter value for a0 (true/false): \").lower() == 'true'\n",
    "    a4 = input(\"Enter value for a4 (true/false): \").lower() == 'true'\n",
    "    a1 = input(\"Enter value for a1 (true/false): \").lower() == 'true'\n",
    "\n",
    "    # Predicting the class based on inputs\n",
    "    predicted_class = predict_class(a5, a8, a9, a2, a0, a4, a1)\n",
    "    print(f\"Predicted Class: {predicted_class}\")\n"
   ]
  },
  {
   "cell_type": "markdown",
   "id": "71d82f98",
   "metadata": {},
   "source": [
    "### Implementation of the min max algorithm with alpha-beta pruning  "
   ]
  },
  {
   "cell_type": "code",
   "execution_count": null,
   "id": "7f807ef3",
   "metadata": {},
   "outputs": [],
   "source": [
    "# Step 2: Min-Max Algorithm Implementation\n",
    "def min_max(depth, nodeIndex, maximizingPlayer, values, alpha, beta):\n",
    "    if depth == 3:  # Assume we are limiting depth to 3 for simplicity\n",
    "        return values[nodeIndex]\n",
    "\n",
    "    if maximizingPlayer:\n",
    "        best = -math.inf\n",
    "        for i in range(0, 2):\n",
    "            val = min_max(depth + 1, nodeIndex * 2 + i, False, values, alpha, beta)\n",
    "            best = max(best, val)\n",
    "            alpha = max(alpha, best)\n",
    "            if beta <= alpha:\n",
    "                break\n",
    "        return best\n",
    "    else:\n",
    "        best = math.inf\n",
    "        for i in range(0, 2):\n",
    "            val = min_max(depth + 1, nodeIndex * 2 + i, True, values, alpha, beta)\n",
    "            best = min(best, val)\n",
    "            beta = min(beta, best)\n",
    "            if beta <= alpha:\n",
    "                break\n",
    "        return best\n",
    "\n",
    "# Example sensor data for Min-Max\n",
    "values = [3, 5, 6, 9, 1, 2, 0, -1]\n",
    "optimal_value = min_max(0, 0, True, values, -math.inf, math.inf)\n",
    "print(f\"Optimal value (Min-Max): {optimal_value}\")\n"
   ]
  },
  {
   "cell_type": "markdown",
   "id": "c158f4a2",
   "metadata": {},
   "source": [
    "### Choice and implementation of the Static Evaluation Function."
   ]
  },
  {
   "cell_type": "code",
   "execution_count": null,
   "id": "ad3cab97",
   "metadata": {},
   "outputs": [],
   "source": [
    "# Step 3: Deriving Decision Tree Logic as Functions\n",
    "def predict_class(a5, a8, a9, a2, a0, a4, a1):\n",
    "    if not a5:\n",
    "        return 'c0'\n",
    "    elif a5:\n",
    "        if not a8:\n",
    "            if not a9:\n",
    "                if not a2:\n",
    "                    return 'c0'\n",
    "                else:\n",
    "                    if not a0:\n",
    "                        if not a4:\n",
    "                            return 'c1'\n",
    "                        else:\n",
    "                            return 'c0'\n",
    "                    else:\n",
    "                        return 'c1'\n",
    "            else:\n",
    "                return 'c1'\n",
    "        else:\n",
    "            if not a1:\n",
    "                if not a2:\n",
    "                    if not a0:\n",
    "                        return 'c1'\n",
    "                    else:\n",
    "                        return 'c0'\n",
    "                else:\n",
    "                    if not a4:\n",
    "                        return 'c1'\n",
    "                    else:\n",
    "                        return 'c0'\n",
    "            else:\n",
    "                return 'c0'\n",
    "\n"
   ]
  },
  {
   "cell_type": "code",
   "execution_count": null,
   "id": "3a68e508",
   "metadata": {},
   "outputs": [],
   "source": [
    "#Code block - Start the game\n",
    "# Step 4: Run the system interactively\n",
    "def main():\n",
    "    print(\"Welcome to the Moon Rover Decision System!\")\n",
    "\n",
    "    # Load the dataset\n",
    "    print(\"Dataset loaded successfully.\")\n",
    "    print(\"Dataset Preview:\")\n",
    "    print(dataset.head())\n",
    "\n",
    "    # Run the interactive system\n",
    "    get_user_input()\n",
    "\n",
    "# Run the main function\n",
    "if __name__ == \"__main__\":\n",
    "    main()"
   ]
  }
 ],
 "metadata": {
  "kernelspec": {
   "display_name": "Python 3 (ipykernel)",
   "language": "python",
   "name": "python3"
  },
  "language_info": {
   "codemirror_mode": {
    "name": "ipython",
    "version": 3
   },
   "file_extension": ".py",
   "mimetype": "text/x-python",
   "name": "python",
   "nbconvert_exporter": "python",
   "pygments_lexer": "ipython3",
   "version": "3.11.7"
  }
 },
 "nbformat": 4,
 "nbformat_minor": 5
}
